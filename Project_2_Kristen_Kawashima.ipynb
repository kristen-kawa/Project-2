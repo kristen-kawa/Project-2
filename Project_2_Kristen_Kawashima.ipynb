{
 "cells": [
  {
   "cell_type": "markdown",
   "id": "1093001b",
   "metadata": {},
   "source": [
    "# Project 2"
   ]
  },
  {
   "cell_type": "markdown",
   "id": "62df2038",
   "metadata": {},
   "source": [
    "### Scientific Question: In looking at the ALDH2* 2 mutant enzyme responsible for the \"flushing\" reaction commonly seen in East Asians following alcohol consumption?\n",
    "\n",
    "Mitochondrial aldehyde dehydrogenase (ALDH2) is an enzyme essential to the oxidation of ethanol-derived acetaldehyde. The mutant variant, ALDH2* 2, has a glutamate to lysine substitution at residue 487. This point mutation in ALDH2 is known to contribute to the carcinogenic effects of alcohol (Larson et al., 2005)."
   ]
  },
  {
   "cell_type": "markdown",
   "id": "5bdfb54c",
   "metadata": {},
   "source": [
    "### Hypothesis: If the single point mutation in ALDH2 gene at residue 487 is responsible for the \"asian flush\" reaction as a result of acetaldehyde over-accumulation, we would expect to see a conformational change in the structure of the mutant enzyme, ALDH2* 2, responsible for decreased enzymatic activity in oxydation of acetaldehyde.\n",
    "\n",
    "To answer this scientific question and test my hypothesis, I searched for the wildtype ALDH2, mutant ALDH2* 2, as well as ALDH2 proteins from NCBI and then"
   ]
  },
  {
   "cell_type": "markdown",
   "id": "028b05fc",
   "metadata": {},
   "source": [
    "### Part 1: Load the Packages"
   ]
  },
  {
   "cell_type": "markdown",
   "id": "73bbe77a",
   "metadata": {},
   "source": [
    "### Part 2: Load in the data and perform Bioinformatics Analyses"
   ]
  },
  {
   "cell_type": "markdown",
   "id": "680bdf17",
   "metadata": {},
   "source": [
    "### Part 3: "
   ]
  },
  {
   "cell_type": "markdown",
   "id": "6b1d076b",
   "metadata": {},
   "source": [
    "### Part 4: Analysis of the results"
   ]
  },
  {
   "cell_type": "code",
   "execution_count": null,
   "id": "82d17815",
   "metadata": {},
   "outputs": [],
   "source": []
  }
 ],
 "metadata": {
  "kernelspec": {
   "display_name": "Python 3 (ipykernel)",
   "language": "python",
   "name": "python3"
  },
  "language_info": {
   "codemirror_mode": {
    "name": "ipython",
    "version": 3
   },
   "file_extension": ".py",
   "mimetype": "text/x-python",
   "name": "python",
   "nbconvert_exporter": "python",
   "pygments_lexer": "ipython3",
   "version": "3.9.7"
  }
 },
 "nbformat": 4,
 "nbformat_minor": 5
}
